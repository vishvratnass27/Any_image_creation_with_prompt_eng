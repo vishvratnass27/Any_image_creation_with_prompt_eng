{
 "cells": [
  {
   "cell_type": "code",
   "execution_count": null,
   "id": "7b92e893",
   "metadata": {},
   "outputs": [],
   "source": [
    "import openai\n",
    "import requests   #we need to authcet your self  you what key"
   ]
  },
  {
   "cell_type": "code",
   "execution_count": null,
   "id": "225542b2",
   "metadata": {},
   "outputs": [],
   "source": [
    "mykey=\"Please Enter OpneAI Seacret Key\" \n",
    "#you find this from https://platform.openai.com/account/api-keys"
   ]
  },
  {
   "cell_type": "code",
   "execution_count": null,
   "id": "55f57a87",
   "metadata": {},
   "outputs": [],
   "source": [
    "openai.api_key = mykey"
   ]
  },
  {
   "cell_type": "code",
   "execution_count": null,
   "id": "d7062e27",
   "metadata": {},
   "outputs": [],
   "source": [
    "res=openai.Image.create(\n",
    "    prompt=\"Generate a visually stunning image of Ironman in his iconic suit, showcasing his powerful presence and technological brilliance. The image should capture the essence of Ironman's character, with the red and gold armor exuding a sense of strength and determination. The pose can depict Ironman in action, ready to unleash his extraordinary abilities. The background should complement the scene, highlighting the futuristic and high-tech world he inhabits. The image should evoke a sense of awe and admiration for the legendary superhero. Show the world the epitome of Ironman's heroism through this breathtaking image!\"\n",
    "\n",
    "\n",
    ")"
   ]
  },
  {
   "cell_type": "code",
   "execution_count": null,
   "id": "b07bdac2",
   "metadata": {},
   "outputs": [],
   "source": [
    "res"
   ]
  },
  {
   "cell_type": "code",
   "execution_count": null,
   "id": "17936b0d",
   "metadata": {},
   "outputs": [],
   "source": [
    "image_url=res.data[0].url"
   ]
  },
  {
   "cell_type": "code",
   "execution_count": null,
   "id": "1f1afd67",
   "metadata": {},
   "outputs": [],
   "source": [
    "image=requests.get(image_url).content"
   ]
  },
  {
   "cell_type": "code",
   "execution_count": null,
   "id": "2ff6efcd",
   "metadata": {},
   "outputs": [],
   "source": [
    "with open(\"myimage.png\" ,\"wb\") as fh:\n",
    "    fh.write(image)"
   ]
  },
  {
   "cell_type": "code",
   "execution_count": null,
   "id": "6ae04d95",
   "metadata": {},
   "outputs": [],
   "source": [
    "from IPython.display import Image"
   ]
  },
  {
   "cell_type": "code",
   "execution_count": null,
   "id": "5a08091c",
   "metadata": {},
   "outputs": [],
   "source": [
    "Image(filename=\"myimage.png\")"
   ]
  },
  {
   "cell_type": "code",
   "execution_count": null,
   "id": "5a670956",
   "metadata": {},
   "outputs": [],
   "source": []
  }
 ],
 "metadata": {
  "kernelspec": {
   "display_name": "Python 3 (ipykernel)",
   "language": "python",
   "name": "python3"
  },
  "language_info": {
   "codemirror_mode": {
    "name": "ipython",
    "version": 3
   },
   "file_extension": ".py",
   "mimetype": "text/x-python",
   "name": "python",
   "nbconvert_exporter": "python",
   "pygments_lexer": "ipython3",
   "version": "3.9.13"
  }
 },
 "nbformat": 4,
 "nbformat_minor": 5
}
